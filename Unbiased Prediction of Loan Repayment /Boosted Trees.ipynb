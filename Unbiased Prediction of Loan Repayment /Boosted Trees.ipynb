{
 "cells": [
  {
   "cell_type": "code",
   "execution_count": 1,
   "metadata": {},
   "outputs": [],
   "source": [
    "import numpy as np \n",
    "from sklearn.metrics import confusion_matrix\n",
    "import pandas as pd \n",
    "import seaborn as sns \n",
    "import matplotlib.pyplot as plt "
   ]
  },
  {
   "cell_type": "code",
   "execution_count": 2,
   "metadata": {},
   "outputs": [
    {
     "data": {
      "text/plain": [
       "array(['Unnamed: 0', 'emp_title', 'loan_amnt', 'funded_amnt',\n",
       "       'funded_amnt_inv', 'installment', 'int_rate', 'annual_inc',\n",
       "       'tot_hi_cred_lim', 'chargeoff_within_12_mths', 'total_pymnt',\n",
       "       'pub_rec_bankruptcies', 'dti', 'delinq_2yrs', 'addr_state',\n",
       "       'purpose', 'grade_A', 'grade_B', 'grade_C', 'grade_D', 'grade_E',\n",
       "       'grade_F', 'grade_G', 'sub_grade_A1', 'sub_grade_A2',\n",
       "       'sub_grade_A3', 'sub_grade_A4', 'sub_grade_A5', 'sub_grade_B1',\n",
       "       'sub_grade_B2', 'sub_grade_B3', 'sub_grade_B4', 'sub_grade_B5',\n",
       "       'sub_grade_C1', 'sub_grade_C2', 'sub_grade_C3', 'sub_grade_C4',\n",
       "       'sub_grade_C5', 'sub_grade_D1', 'sub_grade_D2', 'sub_grade_D3',\n",
       "       'sub_grade_D4', 'sub_grade_D5', 'sub_grade_E1', 'sub_grade_E2',\n",
       "       'sub_grade_E3', 'sub_grade_E4', 'sub_grade_E5', 'sub_grade_F1',\n",
       "       'sub_grade_F2', 'sub_grade_F3', 'sub_grade_F4', 'sub_grade_F5',\n",
       "       'sub_grade_G1', 'sub_grade_G2', 'sub_grade_G3', 'sub_grade_G4',\n",
       "       'sub_grade_G5', 'term_ 36 months', 'term_ 60 months',\n",
       "       'home_ownership_ANY', 'home_ownership_MORTGAGE',\n",
       "       'home_ownership_NONE', 'home_ownership_OTHER',\n",
       "       'home_ownership_OWN', 'home_ownership_RENT', 'verification_status',\n",
       "       'pymnt_plan', 'zip_code', 'term', 'emp_length',\n",
       "       'mths_since_last_delinq', 'issue_d', 'earliest_cr_line',\n",
       "       'loan_status'], dtype=object)"
      ]
     },
     "execution_count": 2,
     "metadata": {},
     "output_type": "execute_result"
    }
   ],
   "source": [
    "df = pd.read_csv('clean_lending_dataset.csv')\n",
    "df = df.dropna()\n",
    "df.columns.values\n"
   ]
  },
  {
   "cell_type": "code",
   "execution_count": 3,
   "metadata": {},
   "outputs": [
    {
     "data": {
      "text/plain": [
       "0.1339960373921778"
      ]
     },
     "execution_count": 3,
     "metadata": {},
     "output_type": "execute_result"
    }
   ],
   "source": [
    "len(df)\n",
    "sum(df.loan_status)/len(df)"
   ]
  },
  {
   "cell_type": "markdown",
   "metadata": {},
   "source": [
    "# Gradient Boosting Classifier"
   ]
  },
  {
   "cell_type": "code",
   "execution_count": 4,
   "metadata": {},
   "outputs": [
    {
     "name": "stderr",
     "output_type": "stream",
     "text": [
      "/home/yaramubarak/anaconda3/lib/python3.7/site-packages/sklearn/ensemble/weight_boosting.py:29: DeprecationWarning: numpy.core.umath_tests is an internal NumPy module and should not be imported. It will be removed in a future NumPy release.\n",
      "  from numpy.core.umath_tests import inner1d\n"
     ]
    },
    {
     "data": {
      "text/plain": [
       "0.9546503080283297"
      ]
     },
     "execution_count": 4,
     "metadata": {},
     "output_type": "execute_result"
    }
   ],
   "source": [
    "from sklearn.ensemble import GradientBoostingClassifier\n",
    "\n",
    "X  = df.drop(['emp_title', 'loan_status', 'addr_state', 'purpose','Unnamed: 0'], axis = 1)\n",
    "Y = df.loan_status \n",
    "\n",
    "perc_train = 0.7\n",
    "mask = np.random.randint(0,high = len(X)-1, size = [int(len(X)*perc_train)])\n",
    "\n",
    "clf1 = GradientBoostingClassifier(n_estimators=150, learning_rate=1.0,\n",
    "   max_depth=1, random_state=0).fit(X.values[mask], Y.values[mask])\n",
    "clf1.score(X.values[~mask], Y.values[~mask])                 "
   ]
  },
  {
   "cell_type": "code",
   "execution_count": 18,
   "metadata": {},
   "outputs": [
    {
     "name": "stdout",
     "output_type": "stream",
     "text": [
      "0.010549598348210298\n"
     ]
    },
    {
     "data": {
      "text/plain": [
       "<matplotlib.axes._subplots.AxesSubplot at 0x7f2d555ddba8>"
      ]
     },
     "execution_count": 18,
     "metadata": {},
     "output_type": "execute_result"
    },
    {
     "data": {
      "image/png": "[encoded data removed]",
      "text/plain": [
       "<Figure size 1440x432 with 1 Axes>"
      ]
     },
     "metadata": {
      "needs_background": "light"
     },
     "output_type": "display_data"
    }
   ],
   "source": [
    "tn, fp, fn, tp = confusion_matrix(clf1.predict(X.values[~mask]), Y.values[~mask]).ravel()\n",
    "print(fn/sum(Y.values[~mask]))\n",
    "sorted_inds = np.flip(np.argsort(clf1.feature_importances_))\n",
    "\n",
    "\n",
    "\n",
    "f, ax = plt.subplots(figsize=(20, 6))\n",
    "sns.set_color_codes(\"pastel\")\n",
    "sns.barplot(x= X.columns[sorted_inds][:10], y=clf1.feature_importances_[sorted_inds][:10],\n",
    "            label=\"Total\", color=\"b\")\n"
   ]
  },
  {
   "cell_type": "markdown",
   "metadata": {},
   "source": [
    "# Adaboost Trees"
   ]
  },
  {
   "cell_type": "code",
   "execution_count": null,
   "metadata": {},
   "outputs": [],
   "source": [
    "from sklearn.ensemble import AdaBoostClassifier\n",
    "from sklearn.tree import DecisionTreeClassifier\n",
    "\n",
    "X  = df.drop(['emp_title', 'loan_status', 'addr_state', 'purpose','Unnamed: 0'], axis = 1)\n",
    "Y = df.loan_status \n",
    "\n",
    "perc_train = 0.7\n",
    "mask = np.random.randint(0,high = len(X)-1, size = [int(len(X)*perc_train)])\n",
    "\n",
    "\n",
    "est = DecisionTreeClassifier(max_depth=3)\n",
    "\n",
    "clf2 = AdaBoostClassifier(base_estimator=est, n_estimators=70, learning_rate=1.0, random_state=None).fit(X.values[mask], Y.values[mask])\n",
    "clf2.score(X.values[~mask], Y.values[~mask])     "
   ]
  },
  {
   "cell_type": "code",
   "execution_count": null,
   "metadata": {},
   "outputs": [],
   "source": [
    "tn, fp, fn, tp = confusion_matrix(clf2.predict(X.values[~mask]), Y.values[~mask]).ravel()\n",
    "print(fn/len(X.values[~mask]))\n",
    "\n",
    "\n",
    "sorted_inds = np.argsort(clf2.feature_importances_)\n",
    "f, ax = plt.subplots(figsize=(20, 6))\n",
    "sns.set_color_codes(\"pastel\")\n",
    "sns.barplot(x= X.columns[sorted_inds][:10], y=clf2.feature_importances_[sorted_inds][:10],\n",
    "            label=\"feature Importances\", color=\"b\")\n",
    "\n",
    "ax.set( ylabel=\"Feature Importance\",\n",
    "       xlabel=\"Feature\")\n",
    "\n"
   ]
  },
  {
   "cell_type": "markdown",
   "metadata": {},
   "source": [
    "# Moral Model "
   ]
  },
  {
   "cell_type": "markdown",
   "metadata": {},
   "source": [
    "## Moral Boosted Gradient"
   ]
  },
  {
   "cell_type": "code",
   "execution_count": 11,
   "metadata": {},
   "outputs": [
    {
     "data": {
      "text/plain": [
       "0.9585781009160151"
      ]
     },
     "execution_count": 11,
     "metadata": {},
     "output_type": "execute_result"
    }
   ],
   "source": [
    "from sklearn.ensemble import GradientBoostingClassifier\n",
    "\n",
    "X  = df.drop(['emp_title', 'loan_status', 'addr_state', 'purpose','zip_code','home_ownership_ANY', 'home_ownership_MORTGAGE',\n",
    "       'home_ownership_NONE', 'home_ownership_OTHER',\n",
    "       'home_ownership_OWN', 'home_ownership_RENT','annual_inc','dti','Unnamed: 0'], axis = 1)\n",
    "Y = df.loan_status \n",
    "\n",
    "perc_train = 0.7\n",
    "mask = np.random.randint(0,high = len(X)-1, size = [int(len(X)*perc_train)])\n",
    "\n",
    "\n",
    "clf3 = GradientBoostingClassifier(n_estimators=210, learning_rate=1.0,\n",
    "   max_depth=1, random_state=0).fit(X.values[mask], Y.values[mask])\n",
    "clf3.score(X.values[~mask], Y.values[~mask])      "
   ]
  },
  {
   "cell_type": "code",
   "execution_count": 12,
   "metadata": {},
   "outputs": [
    {
     "name": "stdout",
     "output_type": "stream",
     "text": [
      "0.011463225427708822\n"
     ]
    },
    {
     "data": {
      "text/plain": [
       "[Text(0,0.5,'Feature Importance'), Text(0.5,0,'Feature')]"
      ]
     },
     "execution_count": 12,
     "metadata": {},
     "output_type": "execute_result"
    },
    {
     "data": {
      "image/png": "[encoded data removed]",
      "text/plain": [
       "<Figure size 1440x432 with 1 Axes>"
      ]
     },
     "metadata": {
      "needs_background": "light"
     },
     "output_type": "display_data"
    }
   ],
   "source": [
    "tn, fp, fn, tp = confusion_matrix(clf3.predict(X.values[~mask]), Y.values[~mask]).ravel()\n",
    "print(fn/sum(Y.values[~mask]))\n",
    "\n",
    "sorted_inds = np.flip(np.argsort(clf3.feature_importances_))\n",
    "f, ax = plt.subplots(figsize=(20, 6))\n",
    "sns.set_color_codes(\"pastel\")\n",
    "sns.barplot(x= X.columns[sorted_inds][:10], y=clf3.feature_importances_[sorted_inds][:10],\n",
    "            label=\"feature Importances\", color=\"b\")\n",
    "\n",
    "ax.set( ylabel=\"Feature Importance\",\n",
    "       xlabel=\"Feature\")\n"
   ]
  },
  {
   "cell_type": "code",
   "execution_count": 5,
   "metadata": {},
   "outputs": [],
   "source": [
    "#f, ax = plt.subplots(figsize=(10, 10))\n",
    "preds_3_test = list(clf3.staged_predict(X.values[~mask]))\n",
    "preds_3_train = list(clf3.staged_predict(X.values[mask]))"
   ]
  },
  {
   "cell_type": "code",
   "execution_count": 6,
   "metadata": {},
   "outputs": [],
   "source": [
    "test_acc_staged_1 = np.sum(np.array(preds_3_test) == Y.values[~mask],axis = 1 )/len(Y.values[~mask])\n",
    "train_acc_staged_1 = np.sum(np.array(preds_3_train) == Y.values[mask],axis = 1 )/len(Y.values[mask])"
   ]
  },
  {
   "cell_type": "code",
   "execution_count": 7,
   "metadata": {},
   "outputs": [
    {
     "data": {
      "text/plain": [
       "<matplotlib.legend.Legend at 0x7f5d07a7da20>"
      ]
     },
     "execution_count": 7,
     "metadata": {},
     "output_type": "execute_result"
    },
    {
     "data": {
      "image/png": "[encoded data removed]",
      "text/plain": [
       "<Figure size 720x720 with 1 Axes>"
      ]
     },
     "metadata": {
      "needs_background": "light"
     },
     "output_type": "display_data"
    }
   ],
   "source": [
    "f, ax = plt.subplots(figsize=(10, 10))\n",
    "plt.plot(test_acc_staged_1, label = 'Test Set')\n",
    "plt.plot(train_acc_staged_1, label = 'Training Set')\n",
    "ax.set( ylabel=\"Accuracy\",\n",
    "       xlabel=\" # Predictor\")\n",
    "f.legend()"
   ]
  },
  {
   "cell_type": "markdown",
   "metadata": {},
   "source": [
    "## Moral Adaboost"
   ]
  },
  {
   "cell_type": "code",
   "execution_count": 8,
   "metadata": {},
   "outputs": [
    {
     "data": {
      "text/plain": [
       "0.9711275859614353"
      ]
     },
     "execution_count": 8,
     "metadata": {},
     "output_type": "execute_result"
    }
   ],
   "source": [
    "from sklearn.ensemble import AdaBoostClassifier\n",
    "from sklearn.tree import DecisionTreeClassifier\n",
    "\n",
    "X  = df.drop(['emp_title', 'loan_status', 'addr_state', 'purpose','zip_code','home_ownership_ANY', 'home_ownership_MORTGAGE',\n",
    "       'home_ownership_NONE', 'home_ownership_OTHER',\n",
    "       'home_ownership_OWN', 'home_ownership_RENT','annual_inc','dti','Unnamed: 0'], axis = 1)\n",
    "Y = df.loan_status \n",
    "\n",
    "perc_train = 0.7\n",
    "mask = np.random.randint(0,high = len(X)-1, size = [int(len(X)*perc_train)])\n",
    "\n",
    "\n",
    "est = DecisionTreeClassifier(max_depth=3)\n",
    "\n",
    "clf4 = AdaBoostClassifier(base_estimator=est, n_estimators=150, learning_rate=1.0, random_state=None).fit(X.values[mask], Y.values[mask])\n",
    "clf4.score(X.values[~mask], Y.values[~mask])     "
   ]
  },
  {
   "cell_type": "code",
   "execution_count": 9,
   "metadata": {},
   "outputs": [
    {
     "name": "stdout",
     "output_type": "stream",
     "text": [
      "0.0035486160397444995\n"
     ]
    },
    {
     "data": {
      "text/plain": [
       "<matplotlib.axes._subplots.AxesSubplot at 0x7f5d07b0e9e8>"
      ]
     },
     "execution_count": 9,
     "metadata": {},
     "output_type": "execute_result"
    },
    {
     "data": {
      "image/png": "[encoded data removed]",
      "text/plain": [
       "<Figure size 1440x432 with 1 Axes>"
      ]
     },
     "metadata": {
      "needs_background": "light"
     },
     "output_type": "display_data"
    }
   ],
   "source": [
    "tn, fp, fn, tp = confusion_matrix(clf4.predict(X.values[~mask]), Y.values[~mask]).ravel()\n",
    "print(fn/sum(X.values[~mask]))\n",
    "\n",
    "sorted_inds = np.flip(np.argsort(clf4.feature_importances_))\n",
    "\n",
    "f, ax = plt.subplots(figsize=(20, 6))\n",
    "sns.set_color_codes(\"pastel\")\n",
    "sns.barplot(x= X.columns[sorted_inds][:10], y=clf4.feature_importances_[sorted_inds][:10],\n",
    "            label=\"Total\", color=\"b\")\n"
   ]
  },
  {
   "cell_type": "code",
   "execution_count": 10,
   "metadata": {},
   "outputs": [
    {
     "ename": "NameError",
     "evalue": "name 'y' is not defined",
     "output_type": "error",
     "traceback": [
      "\u001b[0;31m---------------------------------------------------------------------------\u001b[0m",
      "\u001b[0;31mNameError\u001b[0m                                 Traceback (most recent call last)",
      "\u001b[0;32m<ipython-input-10-8db37880e0fd>\u001b[0m in \u001b[0;36m<module>\u001b[0;34m()\u001b[0m\n\u001b[0;32m----> 1\u001b[0;31m \u001b[0mtest_score_2\u001b[0m \u001b[0;34m=\u001b[0m \u001b[0mclf4\u001b[0m\u001b[0;34m.\u001b[0m\u001b[0mstaged_score\u001b[0m\u001b[0;34m(\u001b[0m\u001b[0mX\u001b[0m\u001b[0;34m.\u001b[0m\u001b[0mvalues\u001b[0m\u001b[0;34m[\u001b[0m\u001b[0;34m~\u001b[0m\u001b[0mmask\u001b[0m\u001b[0;34m]\u001b[0m\u001b[0;34m,\u001b[0m \u001b[0my\u001b[0m\u001b[0;34m.\u001b[0m\u001b[0mvalues\u001b[0m\u001b[0;34m[\u001b[0m\u001b[0;34m~\u001b[0m\u001b[0mmask\u001b[0m\u001b[0;34m]\u001b[0m\u001b[0;34m)\u001b[0m\u001b[0;34m\u001b[0m\u001b[0m\n\u001b[0m\u001b[1;32m      2\u001b[0m \u001b[0mtrain_score_2\u001b[0m \u001b[0;34m=\u001b[0m \u001b[0mclf4\u001b[0m\u001b[0;34m.\u001b[0m\u001b[0mstaged_score\u001b[0m\u001b[0;34m(\u001b[0m\u001b[0mX\u001b[0m\u001b[0;34m.\u001b[0m\u001b[0mvalues\u001b[0m\u001b[0;34m[\u001b[0m\u001b[0mmask\u001b[0m\u001b[0;34m]\u001b[0m\u001b[0;34m,\u001b[0m \u001b[0my\u001b[0m\u001b[0;34m.\u001b[0m\u001b[0mvalues\u001b[0m\u001b[0;34m[\u001b[0m\u001b[0mmask\u001b[0m\u001b[0;34m]\u001b[0m\u001b[0;34m)\u001b[0m\u001b[0;34m\u001b[0m\u001b[0m\n\u001b[1;32m      3\u001b[0m \u001b[0;34m\u001b[0m\u001b[0m\n\u001b[1;32m      4\u001b[0m \u001b[0mf\u001b[0m\u001b[0;34m,\u001b[0m \u001b[0max\u001b[0m \u001b[0;34m=\u001b[0m \u001b[0mplt\u001b[0m\u001b[0;34m.\u001b[0m\u001b[0msubplots\u001b[0m\u001b[0;34m(\u001b[0m\u001b[0mfigsize\u001b[0m\u001b[0;34m=\u001b[0m\u001b[0;34m(\u001b[0m\u001b[0;36m10\u001b[0m\u001b[0;34m,\u001b[0m \u001b[0;36m10\u001b[0m\u001b[0;34m)\u001b[0m\u001b[0;34m)\u001b[0m\u001b[0;34m\u001b[0m\u001b[0m\n\u001b[1;32m      5\u001b[0m \u001b[0mplt\u001b[0m\u001b[0;34m.\u001b[0m\u001b[0mplot\u001b[0m\u001b[0;34m(\u001b[0m\u001b[0mtest_score_2\u001b[0m\u001b[0;34m,\u001b[0m \u001b[0mlabel\u001b[0m \u001b[0;34m=\u001b[0m \u001b[0;34m'Test Set'\u001b[0m\u001b[0;34m)\u001b[0m\u001b[0;34m\u001b[0m\u001b[0m\n",
      "\u001b[0;31mNameError\u001b[0m: name 'y' is not defined"
     ]
    }
   ],
   "source": [
    "test_score_2 = clf4.staged_score(X.values[~mask], y.values[~mask])\n",
    "train_score_2 = clf4.staged_score(X.values[mask], y.values[mask])\n",
    "\n",
    "f, ax = plt.subplots(figsize=(10, 10))\n",
    "plt.plot(test_score_2, label = 'Test Set')\n",
    "plt.plot(train_score_2, label = 'Train Set')\n",
    "ax.set( ylabel=\"Accuracy\",\n",
    "       xlabel=\" # Predictor\")\n",
    "plt.legend()"
   ]
  },
  {
   "cell_type": "code",
   "execution_count": null,
   "metadata": {},
   "outputs": [],
   "source": []
  }
 ],
 "metadata": {
  "kernelspec": {
   "display_name": "Python 3",
   "language": "python",
   "name": "python3"
  },
  "language_info": {
   "codemirror_mode": {
    "name": "ipython",
    "version": 3
   },
   "file_extension": ".py",
   "mimetype": "text/x-python",
   "name": "python",
   "nbconvert_exporter": "python",
   "pygments_lexer": "ipython3",
   "version": "3.7.0"
  }
 },
 "nbformat": 4,
 "nbformat_minor": 2
}
