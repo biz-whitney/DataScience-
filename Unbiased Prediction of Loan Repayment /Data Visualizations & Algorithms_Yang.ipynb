{
 "cells": [
  {
   "cell_type": "code",
   "execution_count": 1,
   "metadata": {},
   "outputs": [],
   "source": [
    "# Importing the libraries\n",
    "import numpy as np # linear algebra\n",
    "import pandas as pd # data processing, CSV file I/O (e.g. pd.read_csv)\n",
    "import matplotlib.pyplot as plt\n",
    "import os\n",
    "from subprocess import check_output"
   ]
  },
  {
   "cell_type": "code",
   "execution_count": 2,
   "metadata": {},
   "outputs": [
    {
     "name": "stderr",
     "output_type": "stream",
     "text": [
      "/anaconda3/lib/python3.6/site-packages/IPython/core/interactiveshell.py:2785: DtypeWarning: Columns (19,47,55,112,123,124,125,128,129,130,133,139,140,141) have mixed types. Specify dtype option on import or set low_memory=False.\n",
      "  interactivity=interactivity, compiler=compiler, result=result)\n"
     ]
    }
   ],
   "source": [
    "data = pd.read_csv(\"loan.csv\")\n",
    "data_1 = pd.DataFrame(data) # Creating a copy\n",
    "#data = data.iloc[:,2:-30].values"
   ]
  },
  {
   "cell_type": "markdown",
   "metadata": {},
   "source": [
    "Consider only 2 major categories \"Charged off\" and \"Fully Paid\". Several reasons to do this:\n",
    "\n",
    "To convert it into a binary cassification problem, and to analyze in detail the effect of important variables on the loan status.\n",
    "\n",
    "A lot of observations show status \"Current\", so we do not know whether it will be \"Charged Off\", \"Fully Paid\" or \"Default\".\n",
    "\n",
    "The observations for \"Default\" are too less as compared to \"Fully Paid\" or \"Charged Off\", to thoughroly investigate those observations with loan status as \"Default\".\n",
    "\n",
    "The remaining categories of \"loan status\" are not of prime importance for this analysis."
   ]
  },
  {
   "cell_type": "code",
   "execution_count": 48,
   "metadata": {},
   "outputs": [],
   "source": [
    "category_one_data = data_1[data_1.loan_status == \"Fully Paid\"]\n",
    "category_two_data = data_1[data_1.loan_status == \"Charged Off\"]\n",
    "new_data = np.vstack((category_one_data,category_two_data))\n",
    "# new_data_copy = pd.DataFrame(new_data)\n",
    "new_data = new_data[:,2:-30]\n",
    "new_data_df = pd.DataFrame(new_data)"
   ]
  },
  {
   "cell_type": "markdown",
   "metadata": {},
   "source": [
    "### Variable under inspection: Home Status"
   ]
  },
  {
   "cell_type": "code",
   "execution_count": 233,
   "metadata": {},
   "outputs": [
    {
     "name": "stdout",
     "output_type": "stream",
     "text": [
      "          0       1\n",
      "0       ANY     267\n",
      "1  MORTGAGE  645496\n",
      "2      NONE      48\n",
      "3     OTHER     144\n",
      "4       OWN  139844\n",
      "5      RENT  517808\n"
     ]
    },
    {
     "data": {
      "image/png": "[encoded data removed]",
      "text/plain": [
       "<Figure size 432x288 with 1 Axes>"
      ]
     },
     "metadata": {},
     "output_type": "display_data"
    },
    {
     "ename": "ValueError",
     "evalue": "all the input array dimensions except for the concatenation axis must match exactly",
     "output_type": "error",
     "traceback": [
      "\u001b[0;31m---------------------------------------------------------------------------\u001b[0m",
      "\u001b[0;31mValueError\u001b[0m                                Traceback (most recent call last)",
      "\u001b[0;32m<ipython-input-233-f518faec6915>\u001b[0m in \u001b[0;36m<module>\u001b[0;34m()\u001b[0m\n\u001b[1;32m     31\u001b[0m \u001b[0;34m\u001b[0m\u001b[0m\n\u001b[1;32m     32\u001b[0m \u001b[0;31m# Concatenating the two variables\u001b[0m\u001b[0;34m\u001b[0m\u001b[0;34m\u001b[0m\u001b[0m\n\u001b[0;32m---> 33\u001b[0;31m \u001b[0mplot_var_stack_3\u001b[0m \u001b[0;34m=\u001b[0m \u001b[0mnp\u001b[0m\u001b[0;34m.\u001b[0m\u001b[0mhstack\u001b[0m\u001b[0;34m(\u001b[0m\u001b[0;34m(\u001b[0m\u001b[0mplot_var_home_status_44\u001b[0m\u001b[0;34m,\u001b[0m\u001b[0mplot_var_home_status_55\u001b[0m\u001b[0;34m)\u001b[0m\u001b[0;34m)\u001b[0m\u001b[0;34m\u001b[0m\u001b[0m\n\u001b[0m\u001b[1;32m     34\u001b[0m \u001b[0mplot_var_stack_3\u001b[0m \u001b[0;34m=\u001b[0m \u001b[0mpd\u001b[0m\u001b[0;34m.\u001b[0m\u001b[0mDataFrame\u001b[0m\u001b[0;34m(\u001b[0m\u001b[0mplot_var_stack_3\u001b[0m\u001b[0;34m)\u001b[0m\u001b[0;34m\u001b[0m\u001b[0m\n\u001b[1;32m     35\u001b[0m \u001b[0mplot_var_stack_3\u001b[0m \u001b[0;34m=\u001b[0m \u001b[0mplot_var_stack_3\u001b[0m\u001b[0;34m.\u001b[0m\u001b[0mdrop\u001b[0m\u001b[0;34m(\u001b[0m\u001b[0mplot_var_stack_3\u001b[0m\u001b[0;34m.\u001b[0m\u001b[0mcolumns\u001b[0m\u001b[0;34m[\u001b[0m\u001b[0;36m2\u001b[0m\u001b[0;34m]\u001b[0m\u001b[0;34m,\u001b[0m \u001b[0maxis\u001b[0m\u001b[0;34m=\u001b[0m\u001b[0;36m1\u001b[0m\u001b[0;34m)\u001b[0m\u001b[0;34m\u001b[0m\u001b[0m\n",
      "\u001b[0;32m/anaconda3/lib/python3.6/site-packages/numpy/core/shape_base.py\u001b[0m in \u001b[0;36mhstack\u001b[0;34m(tup)\u001b[0m\n\u001b[1;32m    286\u001b[0m         \u001b[0;32mreturn\u001b[0m \u001b[0m_nx\u001b[0m\u001b[0;34m.\u001b[0m\u001b[0mconcatenate\u001b[0m\u001b[0;34m(\u001b[0m\u001b[0marrs\u001b[0m\u001b[0;34m,\u001b[0m \u001b[0;36m0\u001b[0m\u001b[0;34m)\u001b[0m\u001b[0;34m\u001b[0m\u001b[0m\n\u001b[1;32m    287\u001b[0m     \u001b[0;32melse\u001b[0m\u001b[0;34m:\u001b[0m\u001b[0;34m\u001b[0m\u001b[0m\n\u001b[0;32m--> 288\u001b[0;31m         \u001b[0;32mreturn\u001b[0m \u001b[0m_nx\u001b[0m\u001b[0;34m.\u001b[0m\u001b[0mconcatenate\u001b[0m\u001b[0;34m(\u001b[0m\u001b[0marrs\u001b[0m\u001b[0;34m,\u001b[0m \u001b[0;36m1\u001b[0m\u001b[0;34m)\u001b[0m\u001b[0;34m\u001b[0m\u001b[0m\n\u001b[0m\u001b[1;32m    289\u001b[0m \u001b[0;34m\u001b[0m\u001b[0m\n\u001b[1;32m    290\u001b[0m \u001b[0;34m\u001b[0m\u001b[0m\n",
      "\u001b[0;31mValueError\u001b[0m: all the input array dimensions except for the concatenation axis must match exactly"
     ]
    }
   ],
   "source": [
    "home_status = new_data_df[10]\n",
    "# print(np.unique(home_status, return_counts = True))\n",
    "home_status_list = np.array(np.unique(home_status, return_counts = True))\n",
    "home_status_df = pd.DataFrame(home_status_list.T)\n",
    "print(home_status_df)\n",
    "\n",
    "# Distribution of Emp_length\n",
    "plt.figure()\n",
    "plt.bar(home_status_df[0],home_status_df[1])\n",
    "plt.xlabel('Home Status')\n",
    "plt.ylabel('Frequency')\n",
    "plt.title('Home Status categories')\n",
    "plt.show()\n",
    "\n",
    "home_status = pd.DataFrame(home_status)\n",
    "status_home_status = pd.DataFrame(np.hstack((home_status,status_labels)))\n",
    "status_home_status.columns = ['Home Status','status_labels']\n",
    "\n",
    "# Looking for a trend in the defaulted observations\n",
    "Charged_off_home_status = status_home_status[status_home_status.status_labels == 1]\n",
    "temp_41 = Charged_off_home_status.iloc[:,0].values\n",
    "plot_var_home_status = np.array(np.unique(temp_41, return_counts = True))\n",
    "plot_var_home_status_44 = pd.DataFrame(plot_var_home_status.T) \n",
    "\n",
    "# Looking for a trend in the successful observations\n",
    "Fully_Paid_home_status = status_home_status[status_home_status.status_labels == 0]\n",
    "temp_42 = Fully_Paid_home_status.iloc[:,0].values\n",
    "plot_var_home_status_2 = np.array(np.unique(temp_42, return_counts = True))\n",
    "plot_var_home_status_55 = pd.DataFrame(plot_var_home_status_2.T) # Eliminating the 10th, since as only one reading\n",
    "plot_var_home_status_55 = plot_var_home_status_55.drop(0) # Eliminating the home status = \"any\", since as only one reading\n",
    "\n",
    "# Concatenating the two variables\n",
    "plot_var_stack_3 = np.hstack((plot_var_home_status_44,plot_var_home_status_55))\n",
    "plot_var_stack_3 = pd.DataFrame(plot_var_stack_3)\n",
    "plot_var_stack_3 = plot_var_stack_3.drop(plot_var_stack_3.columns[2], axis=1)\n",
    "plot_var_stack_3.columns = ['Home Status','Charged Off','Fully Paid']\n",
    "\n",
    "# Percent stacked\n",
    "# From raw value to percentage\n",
    "totals = [i+j for i,j in zip(plot_var_stack_3['Charged Off'], plot_var_stack_3['Fully Paid'])]\n",
    "C_Off = [i / j * 100 for i,j in zip(plot_var_stack_3['Charged Off'], totals)]\n",
    "mean_C_Off = np.mean(C_Off)\n",
    "F_Paid = [i / j * 100 for i,j in zip(plot_var_stack_3['Fully Paid'], totals)]\n",
    "#plot_var_stack_3 = np.array(plot_var_stack_3)\n",
    "group_number = plot_var_stack_3['Home Status']\n",
    "p1 = plt.bar(group_number, C_Off, color='#7f6d5f', edgecolor='white', width=0.5)\n",
    "p2 = plt.bar(group_number, F_Paid, bottom=C_Off, color='#557f2d', edgecolor='white', width=0.5)\n",
    "#Axes.axhline(y=mean_C_Off)\n",
    "plt.xlabel('Home Status')\n",
    "plt.ylabel('Percent loan status')\n",
    "plt.title('Home Status categories')\n",
    "plt.legend((p1, p2), ('Charged Off', 'Fully Paid'), loc = 'upper right')\n",
    "plt.show()"
   ]
  },
  {
   "cell_type": "markdown",
   "metadata": {},
   "source": [
    "### Variable under inspection: Grade. \n",
    "**Whether the grade affects the Installment amount?"
   ]
  },
  {
   "cell_type": "code",
   "execution_count": 37,
   "metadata": {},
   "outputs": [
    {
     "name": "stdout",
     "output_type": "stream",
     "text": [
      "   0       1\n",
      "0  A  226243\n",
      "1  B  380152\n",
      "2  C  369928\n",
      "3  D  195280\n",
      "4  E   91570\n",
      "5  F   31483\n",
      "6  G    8951\n"
     ]
    },
    {
     "data": {
      "image/png": "[encoded data removed]",
      "text/plain": [
       "<Figure size 432x288 with 1 Axes>"
      ]
     },
     "metadata": {},
     "output_type": "display_data"
    },
    {
     "data": {
      "image/png": "[encoded data removed]",
      "text/plain": [
       "<Figure size 432x288 with 1 Axes>"
      ]
     },
     "metadata": {},
     "output_type": "display_data"
    }
   ],
   "source": [
    "installment_grade = new_data[:,6]\n",
    "# print(np.unique(installment_grade, return_counts = True))\n",
    "installment_grade_list = np.array(np.unique(installment_grade, return_counts = True))\n",
    "installment_grade_df = pd.DataFrame(installment_grade_list.T)\n",
    "print(installment_grade_df)\n",
    "\n",
    "# Distribution of Installment grade\n",
    "plt.figure()\n",
    "plt.bar(installment_grade_df[0],installment_grade_df[1])\n",
    "plt.xlabel('Installment_grade')\n",
    "plt.ylabel('Frequency')\n",
    "plt.title('Distribution of Installment grade categories')\n",
    "plt.show()\n",
    "\n",
    "installment_grade = pd.DataFrame(installment_grade)\n",
    "status_installment_grade = pd.DataFrame(np.hstack((installment_grade,status_labels)))\n",
    "status_installment_grade.columns = ['Installment_grade','status_labels']\n",
    "\n",
    "# Looking for a trend in the defaulted observations\n",
    "Charged_off_grade = status_installment_grade[status_installment_grade.status_labels == 1]\n",
    "temp_11 = Charged_off_grade.iloc[:,0].values\n",
    "plot_var_grade = np.array(np.unique(temp_11, return_counts = True))\n",
    "plot_var_grade_11 = plot_var_grade.T \n",
    "\n",
    "# Looking for a trend in the successful observations\n",
    "Fully_Paid_grade = status_installment_grade[status_installment_grade.status_labels == 0]\n",
    "temp_22 = Fully_Paid_grade.iloc[:,0].values\n",
    "plot_var_grade_2 = np.array(np.unique(temp_22, return_counts = True))\n",
    "plot_var_grade_22 = plot_var_grade_2.T # Eliminating the 10th, since as only one reading\n",
    "\n",
    "# Concatenating the two variables\n",
    "plot_var_stack_1 = np.hstack((plot_var_grade_11,plot_var_grade_22))\n",
    "plot_var_stack_1 = pd.DataFrame(plot_var_stack_1)\n",
    "plot_var_stack_1 = plot_var_stack_1.drop(plot_var_stack_1.columns[2], axis=1)\n",
    "plot_var_stack_1.columns = ['Installment_grade_grp','Charged Off','Fully Paid']\n",
    "\n",
    "# Percent stacked\n",
    "# From raw value to percentage\n",
    "totals = [i+j for i,j in zip(plot_var_stack_1['Charged Off'], plot_var_stack_1['Fully Paid'])]\n",
    "C_Off = [i / j * 100 for i,j in zip(plot_var_stack_1['Charged Off'], totals)]\n",
    "mean_C_Off = np.mean(C_Off)\n",
    "F_Paid = [i / j * 100 for i,j in zip(plot_var_stack_1['Fully Paid'], totals)]\n",
    "# plot_var_stack_1 = np.array(plot_var_stack_1)\n",
    "group_number = plot_var_stack_1['Installment_grade_grp']\n",
    "p1 = plt.bar(group_number, C_Off, color='#7f6d5f', edgecolor='white', width=0.5)\n",
    "p2 = plt.bar(group_number, F_Paid, bottom=C_Off, color='#557f2d', edgecolor='white', width=0.5)\n",
    "#Axes.axhline(y=mean_C_Off)\n",
    "plt.xlabel('Installment_grade')\n",
    "plt.ylabel('Percent loan status')\n",
    "plt.title('Installment grade categories')\n",
    "plt.legend((p1, p2), ('Charged Off', 'Fully Paid'), loc = 'upper right')\n",
    "plt.show()"
   ]
  },
  {
   "cell_type": "markdown",
   "metadata": {},
   "source": [
    "### Variable under inspection: Sub_grade\n",
    "**Whether the sub_grade affects the Installment amount?"
   ]
  },
  {
   "cell_type": "markdown",
   "metadata": {},
   "source": [
    "1. The grade does seem to affect the default rate: Higher the grade higher the percentage of \"Charged Off\" loans.\n",
    "2. From the plot we can conclude that Grade G has the highest \"% Charged Off\"\n",
    "3. To further investigate this we need to know what the Grade refers to, does it represent risk factor in lending the money ? If yes, then the results make sense: Higher the grade higher the risk factor.\n",
    "4. From the distribution plot we can see that they are already lending only a handful amount of loans to people classified in \"Grade G\". They should be more precautious in their approach to lending money to customers who are classified to be in higher grades."
   ]
  },
  {
   "cell_type": "code",
   "execution_count": 131,
   "metadata": {},
   "outputs": [
    {
     "name": "stdout",
     "output_type": "stream",
     "text": [
      "     0      1\n",
      "0   A1  41258\n",
      "1   A2  35800\n",
      "2   A3  36599\n",
      "3   A4  50518\n",
      "4   A5  62068\n",
      "5   B1  68853\n",
      "6   B2  71689\n",
      "7   B3  79424\n",
      "8   B4  80606\n",
      "9   B5  79580\n",
      "10  C1  82815\n",
      "11  C2  76854\n",
      "12  C3  72731\n",
      "13  C4  72108\n",
      "14  C5  65420\n",
      "15  D1  49949\n",
      "16  D2  43480\n",
      "17  D3  38181\n",
      "18  D4  34566\n",
      "19  D5  29104\n",
      "20  E1  23223\n",
      "21  E2  20961\n",
      "22  E3  17957\n",
      "23  E4  15372\n",
      "24  E5  14057\n",
      "25  F1   9766\n",
      "26  F2   7063\n",
      "27  F3   5992\n",
      "28  F4   4783\n",
      "29  F5   3879\n",
      "30  G1   2919\n",
      "31  G2   2099\n",
      "32  G3   1593\n",
      "33  G4   1258\n",
      "34  G5   1082\n"
     ]
    },
    {
     "data": {
      "image/png": "[encoded data removed]",
      "text/plain": [
       "<Figure size 432x288 with 1 Axes>"
      ]
     },
     "metadata": {},
     "output_type": "display_data"
    },
    {
     "data": {
      "image/png": "[encoded data removed]",
      "text/plain": [
       "<Figure size 432x288 with 1 Axes>"
      ]
     },
     "metadata": {},
     "output_type": "display_data"
    }
   ],
   "source": [
    "sub_grade = new_data[:,7]\n",
    "# print(np.unique(installment_grade, return_counts = True))\n",
    "sub_grade_list = np.array(np.unique(sub_grade, return_counts = True))\n",
    "sub_grade_df = pd.DataFrame(sub_grade_list.T)\n",
    "print(sub_grade_df)\n",
    "\n",
    "# Distribution of Installment grade\n",
    "plt.figure()\n",
    "plt.bar(installment_grade_df[0],installment_grade_df[1])\n",
    "plt.xlabel('sub_grade')\n",
    "plt.ylabel('Frequency')\n",
    "plt.title('Distribution of Installment grade categories')\n",
    "plt.show()\n",
    "\n",
    "installment_grade = pd.DataFrame(installment_grade)\n",
    "status_installment_grade = pd.DataFrame(np.hstack((installment_grade,status_labels)))\n",
    "status_installment_grade.columns = ['sub_grade','status_labels']\n",
    "\n",
    "# Looking for a trend in the defaulted observations\n",
    "Charged_off_grade = status_installment_grade[status_installment_grade.status_labels == 1]\n",
    "temp_11 = Charged_off_grade.iloc[:,0].values\n",
    "plot_var_grade = np.array(np.unique(temp_11, return_counts = True))\n",
    "plot_var_grade_11 = plot_var_grade.T \n",
    "\n",
    "# Looking for a trend in the successful observations\n",
    "Fully_Paid_grade = status_installment_grade[status_installment_grade.status_labels == 0]\n",
    "temp_22 = Fully_Paid_grade.iloc[:,0].values\n",
    "plot_var_grade_2 = np.array(np.unique(temp_22, return_counts = True))\n",
    "plot_var_grade_22 = plot_var_grade_2.T # Eliminating the 10th, since as only one reading\n",
    "\n",
    "# Concatenating the two variables\n",
    "plot_var_stack_1 = np.hstack((plot_var_grade_11,plot_var_grade_22))\n",
    "plot_var_stack_1 = pd.DataFrame(plot_var_stack_1)\n",
    "plot_var_stack_1 = plot_var_stack_1.drop(plot_var_stack_1.columns[2], axis=1)\n",
    "plot_var_stack_1.columns = ['sub_grade','Charged Off','Fully Paid']\n",
    "\n",
    "# Percent stacked\n",
    "# From raw value to percentage\n",
    "totals = [i+j for i,j in zip(plot_var_stack_1['Charged Off'], plot_var_stack_1['Fully Paid'])]\n",
    "C_Off = [i / j * 100 for i,j in zip(plot_var_stack_1['Charged Off'], totals)]\n",
    "mean_C_Off = np.mean(C_Off)\n",
    "F_Paid = [i / j * 100 for i,j in zip(plot_var_stack_1['Fully Paid'], totals)]\n",
    "# plot_var_stack_1 = np.array(plot_var_stack_1)\n",
    "group_number = plot_var_stack_1['sub_grade']\n",
    "p1 = plt.bar(group_number, C_Off, color='#7f6d5f', edgecolor='white', width=0.5)\n",
    "p2 = plt.bar(group_number, F_Paid, bottom=C_Off, color='#557f2d', edgecolor='white', width=0.5)\n",
    "#Axes.axhline(y=mean_C_Off)\n",
    "plt.xlabel('sub_grade')\n",
    "plt.ylabel('Percent loan status')\n",
    "plt.title('Sub_grade categories')\n",
    "plt.legend((p1, p2), ('Charged Off', 'Fully Paid'), loc = 'upper right')\n",
    "plt.show()"
   ]
  },
  {
   "cell_type": "markdown",
   "metadata": {},
   "source": [
    "**The sub_grade does seem to affect the default rate: Higher the grade higher the percentage of \"Charged Off\" loans."
   ]
  },
  {
   "cell_type": "markdown",
   "metadata": {},
   "source": [
    "### Variable under inspection:Annual Income\n",
    "\n",
    "**To investigate this variable we create four bins to classify the annual income:\n",
    "\n",
    "**People earning less than USD 40,000.\n",
    "**People earning between USD 40,000 to USD 70,000.\n",
    "**People earning between USD 70,000 to USD 100,000.\n",
    "**People earning more than USD 100,000,"
   ]
  },
  {
   "cell_type": "code",
   "execution_count": 38,
   "metadata": {},
   "outputs": [
    {
     "name": "stderr",
     "output_type": "stream",
     "text": [
      "No handles with labels found to put in legend.\n"
     ]
    },
    {
     "data": {
      "image/png": "[encoded data removed]",
      "text/plain": [
       "<Figure size 432x288 with 1 Axes>"
      ]
     },
     "metadata": {},
     "output_type": "display_data"
    },
    {
     "data": {
      "image/png": "[encoded data removed]",
      "text/plain": [
       "<Figure size 432x288 with 1 Axes>"
      ]
     },
     "metadata": {},
     "output_type": "display_data"
    }
   ],
   "source": [
    "## Now checking the effect of annual income on loan status\n",
    "# Creating bins for various income amounts\n",
    "annual_income = new_data[:,11]\n",
    "#bins_2 = np.linspace(annual_income.min(), annual_income.max(), 3)\n",
    "bins_2 = np.array([40000,70000,100000,150000])\n",
    "annual_income = annual_income.astype(float).reshape(annual_income.size,1)\n",
    "binned_annual_income = pd.DataFrame(np.digitize(annual_income, bins_2))                  \n",
    "annual_groups = (np.array(np.unique(binned_annual_income, return_counts = True))).T\n",
    "\n",
    "# A bar plot to figure out the distribution of income amount\n",
    "plt.figure()\n",
    "plt.bar(annual_groups[:,0],annual_groups[:,1])\n",
    "plt.xlabel('Annual income amount group')\n",
    "plt.ylabel('Frequency')\n",
    "plt.title('Annual income amount categories')\n",
    "plt.legend(loc=\"upper right\")\n",
    "plt.show()\n",
    "\n",
    "# Appending the income_groups to status\n",
    "status_annual_groups = pd.DataFrame(np.hstack((binned_annual_income,status_labels)))\n",
    "status_annual_groups.columns = ['Annual_income_grp','status_labels'] \n",
    "\n",
    "# Looking for a trend in the defaulted observations\n",
    "Charged_off_annual_income = status_annual_groups[status_annual_groups.status_labels == 1]\n",
    "temp_51 = Charged_off_annual_income.iloc[:,0].values\n",
    "plot_var_annual_income = np.array(np.unique(temp_51, return_counts = True))\n",
    "plot_var_annual_income_66 = pd.DataFrame(plot_var_annual_income.T) \n",
    "\n",
    "# Looking for a trend in the successful observations\n",
    "Fully_Paid_annual_income = status_annual_groups[status_annual_groups.status_labels == 0]\n",
    "temp_52 = Fully_Paid_annual_income.iloc[:,0].values\n",
    "plot_var_annual_income_2 = np.array(np.unique(temp_52, return_counts = True))\n",
    "plot_var_annual_income_77 = pd.DataFrame(plot_var_annual_income_2.T) # Eliminating the 10th, since as only one reading\n",
    "#plot_var_annual_income_55 = plot_var_home_status_55.drop(0) # Eliminating the home status = \"any\", since as only one reading\n",
    "\n",
    "# Concatenating the two variables\n",
    "plot_var_stack_4 = np.hstack((plot_var_annual_income_66,plot_var_annual_income_77))\n",
    "plot_var_stack_4 = pd.DataFrame(plot_var_stack_4)\n",
    "plot_var_stack_4 = plot_var_stack_4.drop(plot_var_stack_4.columns[2], axis=1)\n",
    "plot_var_stack_4.columns = ['Annual Income Group','Charged Off','Fully Paid']\n",
    "\n",
    "# Percent stacked\n",
    "# From raw value to percentage\n",
    "totals = [i+j for i,j in zip(plot_var_stack_4['Charged Off'], plot_var_stack_4['Fully Paid'])]\n",
    "C_Off = [i / j * 100 for i,j in zip(plot_var_stack_4['Charged Off'], totals)]\n",
    "mean_C_Off = np.mean(C_Off)\n",
    "F_Paid = [i / j * 100 for i,j in zip(plot_var_stack_4['Fully Paid'], totals)]\n",
    "#plot_var_stack_4 = np.array(plot_var_stack_4)\n",
    "group_number = plot_var_stack_4['Annual Income Group']\n",
    "p1 = plt.bar(group_number, C_Off, color='#7f6d5f', edgecolor='white', width=0.5)\n",
    "p2 = plt.bar(group_number, F_Paid, bottom=C_Off, color='#557f2d', edgecolor='white', width=0.5)\n",
    "#Axes.axhline(y=mean_C_Off)\n",
    "plt.xlabel('Annual income amount group')\n",
    "plt.ylabel('Percent loan status')\n",
    "plt.title('Annual income amount categories')\n",
    "plt.legend((p1, p2), ('Charged Off', 'Fully Paid'), loc = 'upper right')\n",
    "plt.show()"
   ]
  },
  {
   "cell_type": "markdown",
   "metadata": {},
   "source": [
    "** We can observe a slight downword trend, which suggests that people with higher income are less likely to get \"Charged Off\"."
   ]
  },
  {
   "cell_type": "markdown",
   "metadata": {},
   "source": [
    "### Model Building "
   ]
  },
  {
   "cell_type": "code",
   "execution_count": 2,
   "metadata": {},
   "outputs": [
    {
     "name": "stderr",
     "output_type": "stream",
     "text": [
      "/anaconda3/lib/python3.6/site-packages/IPython/core/interactiveshell.py:2785: DtypeWarning: Columns (19,47,55,112,123,124,125,128,129,130,133,139,140,141) have mixed types. Specify dtype option on import or set low_memory=False.\n",
      "  interactivity=interactivity, compiler=compiler, result=result)\n"
     ]
    }
   ],
   "source": [
    "df3 = pd.read_csv(\"loan.csv\")"
   ]
  },
  {
   "cell_type": "code",
   "execution_count": 4,
   "metadata": {},
   "outputs": [
    {
     "data": {
      "text/html": [
       "<div>\n",
       "<style scoped>\n",
       "    .dataframe tbody tr th:only-of-type {\n",
       "        vertical-align: middle;\n",
       "    }\n",
       "\n",
       "    .dataframe tbody tr th {\n",
       "        vertical-align: top;\n",
       "    }\n",
       "\n",
       "    .dataframe thead th {\n",
       "        text-align: right;\n",
       "    }\n",
       "</style>\n",
       "<table border=\"1\" class=\"dataframe\">\n",
       "  <thead>\n",
       "    <tr style=\"text-align: right;\">\n",
       "      <th></th>\n",
       "      <th>grade</th>\n",
       "      <th>sub_grade</th>\n",
       "    </tr>\n",
       "  </thead>\n",
       "  <tbody>\n",
       "    <tr>\n",
       "      <th>0</th>\n",
       "      <td>C</td>\n",
       "      <td>C1</td>\n",
       "    </tr>\n",
       "    <tr>\n",
       "      <th>1</th>\n",
       "      <td>D</td>\n",
       "      <td>D2</td>\n",
       "    </tr>\n",
       "    <tr>\n",
       "      <th>2</th>\n",
       "      <td>D</td>\n",
       "      <td>D1</td>\n",
       "    </tr>\n",
       "    <tr>\n",
       "      <th>3</th>\n",
       "      <td>D</td>\n",
       "      <td>D2</td>\n",
       "    </tr>\n",
       "    <tr>\n",
       "      <th>4</th>\n",
       "      <td>C</td>\n",
       "      <td>C4</td>\n",
       "    </tr>\n",
       "  </tbody>\n",
       "</table>\n",
       "</div>"
      ],
      "text/plain": [
       "  grade sub_grade\n",
       "0     C        C1\n",
       "1     D        D2\n",
       "2     D        D1\n",
       "3     D        D2\n",
       "4     C        C4"
      ]
     },
     "execution_count": 4,
     "metadata": {},
     "output_type": "execute_result"
    }
   ],
   "source": [
    "X = df3[['grade','sub_grade']]\n",
    "X.head()"
   ]
  },
  {
   "cell_type": "code",
   "execution_count": 5,
   "metadata": {},
   "outputs": [],
   "source": [
    "Y = df3['loan_status']"
   ]
  },
  {
   "cell_type": "code",
   "execution_count": 6,
   "metadata": {},
   "outputs": [],
   "source": [
    "#Transform categorial variables\n",
    "from sklearn.feature_extraction import DictVectorizer\n",
    "X = X.to_dict('records')\n",
    "vec = DictVectorizer()\n",
    "X = vec.fit_transform(X).toarray()"
   ]
  },
  {
   "cell_type": "code",
   "execution_count": 6,
   "metadata": {},
   "outputs": [
    {
     "data": {
      "text/plain": [
       "array([0., 0., 0., 1., 0., 0., 0., 0., 0., 0., 0., 0., 0., 0., 0., 0., 0.,\n",
       "       0., 0., 0., 0., 0., 0., 1., 0., 0., 0., 0., 0., 0., 0., 0., 0., 0.,\n",
       "       0., 0., 0., 0., 0., 0., 0., 0.])"
      ]
     },
     "execution_count": 6,
     "metadata": {},
     "output_type": "execute_result"
    }
   ],
   "source": [
    "X[1]"
   ]
  },
  {
   "cell_type": "code",
   "execution_count": 7,
   "metadata": {},
   "outputs": [
    {
     "data": {
      "text/plain": [
       "2260668"
      ]
     },
     "execution_count": 7,
     "metadata": {},
     "output_type": "execute_result"
    }
   ],
   "source": [
    "len(X)"
   ]
  },
  {
   "cell_type": "code",
   "execution_count": 8,
   "metadata": {},
   "outputs": [
    {
     "name": "stdout",
     "output_type": "stream",
     "text": [
      "Label Encoding [1 1 1 ... 1 1 1]\n"
     ]
    }
   ],
   "source": [
    "# Label encoding the target variable \n",
    "from sklearn.preprocessing import LabelEncoder\n",
    "labelencoder_Y = LabelEncoder()\n",
    "Y = labelencoder_Y.fit_transform(Y)\n",
    "print('Label Encoding', Y)"
   ]
  },
  {
   "cell_type": "code",
   "execution_count": 9,
   "metadata": {},
   "outputs": [
    {
     "name": "stderr",
     "output_type": "stream",
     "text": [
      "/anaconda3/lib/python3.6/site-packages/sklearn/cross_validation.py:41: DeprecationWarning: This module was deprecated in version 0.18 in favor of the model_selection module into which all the refactored classes and functions are moved. Also note that the interface of the new CV iterators are different from that of this module. This module will be removed in 0.20.\n",
      "  \"This module will be removed in 0.20.\", DeprecationWarning)\n"
     ]
    }
   ],
   "source": [
    "#Splitting the dataset in training and testing set\n",
    "from sklearn.cross_validation import train_test_split\n",
    "X_train, X_test, Y_train, Y_test = train_test_split(X, Y, test_size = 0.3, random_state = 0)"
   ]
  },
  {
   "cell_type": "markdown",
   "metadata": {},
   "source": [
    "### Random Forest"
   ]
  },
  {
   "cell_type": "code",
   "execution_count": 10,
   "metadata": {},
   "outputs": [
    {
     "data": {
      "text/plain": [
       "'46.41%'"
      ]
     },
     "execution_count": 10,
     "metadata": {},
     "output_type": "execute_result"
    }
   ],
   "source": [
    "from sklearn.ensemble import RandomForestClassifier\n",
    "from sklearn.metrics import accuracy_score \n",
    "\n",
    "#Create a Gaussian Classifier\n",
    "clf=RandomForestClassifier(n_estimators=100, criterion = 'entropy')\n",
    "\n",
    "#Train the model using the training sets y_pred=clf.predict(X_test)\n",
    "clf.fit(X_train,Y_train)\n",
    "#Predict Output\n",
    "y_pred=clf.predict(X_test)\n",
    "\n",
    "# get the accuracy\n",
    "\"{:.2%}\".format(accuracy_score(Y_test, y_pred))"
   ]
  },
  {
   "cell_type": "markdown",
   "metadata": {},
   "source": [
    "### Neural Network"
   ]
  },
  {
   "cell_type": "code",
   "execution_count": 12,
   "metadata": {},
   "outputs": [
    {
     "data": {
      "text/plain": [
       "'46.38%'"
      ]
     },
     "execution_count": 12,
     "metadata": {},
     "output_type": "execute_result"
    }
   ],
   "source": [
    "from sklearn.neural_network import MLPClassifier\n",
    "X_test = X_test\n",
    "y = Y_test\n",
    "clf.mlp = MLPClassifier(solver='lbfgs', activation='logistic', batch_size= 100, \n",
    "verbose=10, hidden_layer_sizes= (100), random_state=0, early_stopping=True) \n",
    "clf.mlp.fit(X_train,Y_train)\n",
    "\n",
    "\"{:.2%}\".format(clf.score(X_test, y))"
   ]
  },
  {
   "cell_type": "markdown",
   "metadata": {},
   "source": [
    "### Decision Tree"
   ]
  },
  {
   "cell_type": "code",
   "execution_count": 13,
   "metadata": {},
   "outputs": [
    {
     "data": {
      "text/plain": [
       "'46.41%'"
      ]
     },
     "execution_count": 13,
     "metadata": {},
     "output_type": "execute_result"
    }
   ],
   "source": [
    "import numpy as np\n",
    "import pandas as pd\n",
    "from sklearn.cross_validation import train_test_split\n",
    "from sklearn.tree import DecisionTreeClassifier\n",
    "from sklearn.metrics import accuracy_score\n",
    "from sklearn import tree\n",
    "\n",
    "clf_gini = DecisionTreeClassifier(criterion = \"gini\", random_state = 0,\n",
    "                               max_depth=5, min_samples_leaf=5)\n",
    "clf_gini.fit(X_train, Y_train)\n",
    "\n",
    "DecisionTreeClassifier(class_weight=None, criterion='gini', max_depth=5,\n",
    "            max_features=None, max_leaf_nodes=None, min_samples_leaf=5,\n",
    "            min_samples_split=2, min_weight_fraction_leaf=0.0,\n",
    "            presort=False, random_state=0, splitter='best')\n",
    "\n",
    "\"{:.2%}\".format(accuracy_score(Y_test, y_pred))"
   ]
  },
  {
   "cell_type": "markdown",
   "metadata": {},
   "source": [
    "### Using Cleaned data"
   ]
  },
  {
   "cell_type": "code",
   "execution_count": 14,
   "metadata": {},
   "outputs": [],
   "source": [
    "df2 = pd.read_csv(\"clean_lending_dataset.csv\")"
   ]
  },
  {
   "cell_type": "code",
   "execution_count": 22,
   "metadata": {},
   "outputs": [],
   "source": [
    "#df2.ioc[7,15:56]\n",
    "X2 = df2.iloc[:,16:56] \n",
    "Y2 = df2.iloc[:,74]"
   ]
  },
  {
   "cell_type": "code",
   "execution_count": 26,
   "metadata": {},
   "outputs": [],
   "source": [
    "#Transform categorial variables\n",
    "from sklearn.feature_extraction import DictVectorizer\n",
    "X2 = X2.to_dict('records')\n",
    "vec = DictVectorizer()\n",
    "X2 = vec.fit_transform(X2).toarray()"
   ]
  },
  {
   "cell_type": "code",
   "execution_count": 33,
   "metadata": {},
   "outputs": [
    {
     "data": {
      "text/plain": [
       "2260668"
      ]
     },
     "execution_count": 33,
     "metadata": {},
     "output_type": "execute_result"
    }
   ],
   "source": [
    "len(Y2)"
   ]
  },
  {
   "cell_type": "code",
   "execution_count": 30,
   "metadata": {},
   "outputs": [
    {
     "name": "stdout",
     "output_type": "stream",
     "text": [
      "Label Encoding [1 1 1 ... 1 1 1]\n"
     ]
    }
   ],
   "source": [
    "# Label encoding the target variable \n",
    "from sklearn.preprocessing import LabelEncoder\n",
    "labelencoder_Y2 = LabelEncoder()\n",
    "Y2 = labelencoder_Y2.fit_transform(Y)\n",
    "print('Label Encoding', Y2)"
   ]
  },
  {
   "cell_type": "code",
   "execution_count": 31,
   "metadata": {},
   "outputs": [
    {
     "ename": "ValueError",
     "evalue": "Found input variables with inconsistent numbers of samples: [2092883, 2260668]",
     "output_type": "error",
     "traceback": [
      "\u001b[0;31m---------------------------------------------------------------------------\u001b[0m",
      "\u001b[0;31mValueError\u001b[0m                                Traceback (most recent call last)",
      "\u001b[0;32m<ipython-input-31-f437a894fb4a>\u001b[0m in \u001b[0;36m<module>\u001b[0;34m()\u001b[0m\n\u001b[1;32m      1\u001b[0m \u001b[0;31m#Splitting the dataset in training and testing set\u001b[0m\u001b[0;34m\u001b[0m\u001b[0;34m\u001b[0m\u001b[0m\n\u001b[1;32m      2\u001b[0m \u001b[0;32mfrom\u001b[0m \u001b[0msklearn\u001b[0m\u001b[0;34m.\u001b[0m\u001b[0mcross_validation\u001b[0m \u001b[0;32mimport\u001b[0m \u001b[0mtrain_test_split\u001b[0m\u001b[0;34m\u001b[0m\u001b[0m\n\u001b[0;32m----> 3\u001b[0;31m \u001b[0mX_train\u001b[0m\u001b[0;34m,\u001b[0m \u001b[0mX_test\u001b[0m\u001b[0;34m,\u001b[0m \u001b[0mY_train\u001b[0m\u001b[0;34m,\u001b[0m \u001b[0mY_test\u001b[0m \u001b[0;34m=\u001b[0m \u001b[0mtrain_test_split\u001b[0m\u001b[0;34m(\u001b[0m\u001b[0mX2\u001b[0m\u001b[0;34m,\u001b[0m \u001b[0mY2\u001b[0m\u001b[0;34m,\u001b[0m \u001b[0mtest_size\u001b[0m \u001b[0;34m=\u001b[0m \u001b[0;36m0.3\u001b[0m\u001b[0;34m,\u001b[0m \u001b[0mrandom_state\u001b[0m \u001b[0;34m=\u001b[0m \u001b[0;36m0\u001b[0m\u001b[0;34m)\u001b[0m\u001b[0;34m\u001b[0m\u001b[0m\n\u001b[0m",
      "\u001b[0;32m/anaconda3/lib/python3.6/site-packages/sklearn/cross_validation.py\u001b[0m in \u001b[0;36mtrain_test_split\u001b[0;34m(*arrays, **options)\u001b[0m\n\u001b[1;32m   2057\u001b[0m     \u001b[0;32mif\u001b[0m \u001b[0mtest_size\u001b[0m \u001b[0;32mis\u001b[0m \u001b[0;32mNone\u001b[0m \u001b[0;32mand\u001b[0m \u001b[0mtrain_size\u001b[0m \u001b[0;32mis\u001b[0m \u001b[0;32mNone\u001b[0m\u001b[0;34m:\u001b[0m\u001b[0;34m\u001b[0m\u001b[0m\n\u001b[1;32m   2058\u001b[0m         \u001b[0mtest_size\u001b[0m \u001b[0;34m=\u001b[0m \u001b[0;36m0.25\u001b[0m\u001b[0;34m\u001b[0m\u001b[0m\n\u001b[0;32m-> 2059\u001b[0;31m     \u001b[0marrays\u001b[0m \u001b[0;34m=\u001b[0m \u001b[0mindexable\u001b[0m\u001b[0;34m(\u001b[0m\u001b[0;34m*\u001b[0m\u001b[0marrays\u001b[0m\u001b[0;34m)\u001b[0m\u001b[0;34m\u001b[0m\u001b[0m\n\u001b[0m\u001b[1;32m   2060\u001b[0m     \u001b[0;32mif\u001b[0m \u001b[0mstratify\u001b[0m \u001b[0;32mis\u001b[0m \u001b[0;32mnot\u001b[0m \u001b[0;32mNone\u001b[0m\u001b[0;34m:\u001b[0m\u001b[0;34m\u001b[0m\u001b[0m\n\u001b[1;32m   2061\u001b[0m         cv = StratifiedShuffleSplit(stratify, test_size=test_size,\n",
      "\u001b[0;32m/anaconda3/lib/python3.6/site-packages/sklearn/utils/validation.py\u001b[0m in \u001b[0;36mindexable\u001b[0;34m(*iterables)\u001b[0m\n\u001b[1;32m    227\u001b[0m         \u001b[0;32melse\u001b[0m\u001b[0;34m:\u001b[0m\u001b[0;34m\u001b[0m\u001b[0m\n\u001b[1;32m    228\u001b[0m             \u001b[0mresult\u001b[0m\u001b[0;34m.\u001b[0m\u001b[0mappend\u001b[0m\u001b[0;34m(\u001b[0m\u001b[0mnp\u001b[0m\u001b[0;34m.\u001b[0m\u001b[0marray\u001b[0m\u001b[0;34m(\u001b[0m\u001b[0mX\u001b[0m\u001b[0;34m)\u001b[0m\u001b[0;34m)\u001b[0m\u001b[0;34m\u001b[0m\u001b[0m\n\u001b[0;32m--> 229\u001b[0;31m     \u001b[0mcheck_consistent_length\u001b[0m\u001b[0;34m(\u001b[0m\u001b[0;34m*\u001b[0m\u001b[0mresult\u001b[0m\u001b[0;34m)\u001b[0m\u001b[0;34m\u001b[0m\u001b[0m\n\u001b[0m\u001b[1;32m    230\u001b[0m     \u001b[0;32mreturn\u001b[0m \u001b[0mresult\u001b[0m\u001b[0;34m\u001b[0m\u001b[0m\n\u001b[1;32m    231\u001b[0m \u001b[0;34m\u001b[0m\u001b[0m\n",
      "\u001b[0;32m/anaconda3/lib/python3.6/site-packages/sklearn/utils/validation.py\u001b[0m in \u001b[0;36mcheck_consistent_length\u001b[0;34m(*arrays)\u001b[0m\n\u001b[1;32m    202\u001b[0m     \u001b[0;32mif\u001b[0m \u001b[0mlen\u001b[0m\u001b[0;34m(\u001b[0m\u001b[0muniques\u001b[0m\u001b[0;34m)\u001b[0m \u001b[0;34m>\u001b[0m \u001b[0;36m1\u001b[0m\u001b[0;34m:\u001b[0m\u001b[0;34m\u001b[0m\u001b[0m\n\u001b[1;32m    203\u001b[0m         raise ValueError(\"Found input variables with inconsistent numbers of\"\n\u001b[0;32m--> 204\u001b[0;31m                          \" samples: %r\" % [int(l) for l in lengths])\n\u001b[0m\u001b[1;32m    205\u001b[0m \u001b[0;34m\u001b[0m\u001b[0m\n\u001b[1;32m    206\u001b[0m \u001b[0;34m\u001b[0m\u001b[0m\n",
      "\u001b[0;31mValueError\u001b[0m: Found input variables with inconsistent numbers of samples: [2092883, 2260668]"
     ]
    }
   ],
   "source": [
    "#Splitting the dataset in training and testing set\n",
    "from sklearn.cross_validation import train_test_split\n",
    "X_train, X_test, Y_train, Y_test = train_test_split(X2, Y2, test_size = 0.3, random_state = 0)"
   ]
  }
 ],
 "metadata": {
  "kernelspec": {
   "display_name": "Python 3",
   "language": "python",
   "name": "python3"
  },
  "language_info": {
   "codemirror_mode": {
    "name": "ipython",
    "version": 3
   },
   "file_extension": ".py",
   "mimetype": "text/x-python",
   "name": "python",
   "nbconvert_exporter": "python",
   "pygments_lexer": "ipython3",
   "version": "3.6.5"
  }
 },
 "nbformat": 4,
 "nbformat_minor": 2
}
