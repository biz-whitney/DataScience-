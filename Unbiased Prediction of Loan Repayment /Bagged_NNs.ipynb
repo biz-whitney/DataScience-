{
 "cells": [
  {
   "cell_type": "code",
   "execution_count": 1,
   "metadata": {},
   "outputs": [],
   "source": [
    "import numpy as np \n",
    "import pandas as pd \n",
    "from sklearn.metrics import confusion_matrix\n"
   ]
  },
  {
   "cell_type": "code",
   "execution_count": 2,
   "metadata": {},
   "outputs": [
    {
     "data": {
      "text/plain": [
       "array(['Unnamed: 0', 'emp_title', 'loan_amnt', 'funded_amnt',\n",
       "       'funded_amnt_inv', 'installment', 'int_rate', 'annual_inc',\n",
       "       'tot_hi_cred_lim', 'chargeoff_within_12_mths', 'total_pymnt',\n",
       "       'pub_rec_bankruptcies', 'dti', 'delinq_2yrs', 'addr_state',\n",
       "       'purpose', 'grade_A', 'grade_B', 'grade_C', 'grade_D', 'grade_E',\n",
       "       'grade_F', 'grade_G', 'sub_grade_A1', 'sub_grade_A2',\n",
       "       'sub_grade_A3', 'sub_grade_A4', 'sub_grade_A5', 'sub_grade_B1',\n",
       "       'sub_grade_B2', 'sub_grade_B3', 'sub_grade_B4', 'sub_grade_B5',\n",
       "       'sub_grade_C1', 'sub_grade_C2', 'sub_grade_C3', 'sub_grade_C4',\n",
       "       'sub_grade_C5', 'sub_grade_D1', 'sub_grade_D2', 'sub_grade_D3',\n",
       "       'sub_grade_D4', 'sub_grade_D5', 'sub_grade_E1', 'sub_grade_E2',\n",
       "       'sub_grade_E3', 'sub_grade_E4', 'sub_grade_E5', 'sub_grade_F1',\n",
       "       'sub_grade_F2', 'sub_grade_F3', 'sub_grade_F4', 'sub_grade_F5',\n",
       "       'sub_grade_G1', 'sub_grade_G2', 'sub_grade_G3', 'sub_grade_G4',\n",
       "       'sub_grade_G5', 'term_ 36 months', 'term_ 60 months',\n",
       "       'home_ownership_ANY', 'home_ownership_MORTGAGE',\n",
       "       'home_ownership_NONE', 'home_ownership_OTHER',\n",
       "       'home_ownership_OWN', 'home_ownership_RENT', 'verification_status',\n",
       "       'pymnt_plan', 'zip_code', 'term', 'emp_length',\n",
       "       'mths_since_last_delinq', 'issue_d', 'earliest_cr_line',\n",
       "       'loan_status'], dtype=object)"
      ]
     },
     "execution_count": 2,
     "metadata": {},
     "output_type": "execute_result"
    }
   ],
   "source": [
    "df = pd.read_csv('clean_lending_dataset.csv')\n",
    "df = df.dropna()\n",
    "df.columns.values "
   ]
  },
  {
   "cell_type": "code",
   "execution_count": 3,
   "metadata": {},
   "outputs": [],
   "source": [
    "X  = df.drop(['emp_title', 'loan_status', 'addr_state', 'purpose'], axis = 1)\n",
    "Y = df.loan_status \n",
    "\n",
    "perc_train = 0.3\n",
    "mask = np.random.randint(0,high = len(X)-1, size = [int(len(X)*perc_train)])\n",
    "#Xtrain = X.values[mask]\n",
    "#Ytrain = Y.values[mask]\n",
    "\n"
   ]
  },
  {
   "cell_type": "code",
   "execution_count": 4,
   "metadata": {
    "scrolled": true
   },
   "outputs": [
    {
     "name": "stderr",
     "output_type": "stream",
     "text": [
      "/home/yaramubarak/anaconda3/lib/python3.7/site-packages/sklearn/ensemble/weight_boosting.py:29: DeprecationWarning: numpy.core.umath_tests is an internal NumPy module and should not be imported. It will be removed in a future NumPy release.\n",
      "  from numpy.core.umath_tests import inner1d\n"
     ]
    }
   ],
   "source": [
    "from sklearn.ensemble import BaggingClassifier\n",
    "from sklearn.neural_network import MLPClassifier\n",
    "\n",
    "classifier = MLPClassifier(solver='adam',hidden_layer_sizes=(100,50), random_state=1, activation = 'logistic')\n",
    "bagging = BaggingClassifier(classifier,\n",
    "                            max_samples=0.9, max_features=1,n_estimators = 5 ) \n",
    "\n",
    "model = bagging.fit(X.values[mask], Y.values[mask])"
   ]
  },
  {
   "cell_type": "code",
   "execution_count": 17,
   "metadata": {},
   "outputs": [],
   "source": [
    "Accs = [] \n",
    "fns = [] \n",
    "N = 10000 \n",
    "for reps in range(10):\n",
    "    inds = np.random.randint(0 , high = len(X) -1 , size = [N])\n",
    "    Accs.append(model.score(X.values[inds], Y.values[inds]))\n",
    "    tn, fp, fn, tp = confusion_matrix(model.predict(X.values[inds]), Y.values[inds]).ravel()\n",
    "    fns.append(fn/float(len(X.values[inds])))\n",
    "\n"
   ]
  },
  {
   "cell_type": "code",
   "execution_count": 18,
   "metadata": {},
   "outputs": [
    {
     "data": {
      "text/plain": [
       "[0.8712, 0.8645, 0.8653, 0.8685, 0.8635, 0.861, 0.8697, 0.8599, 0.869, 0.8588]"
      ]
     },
     "execution_count": 18,
     "metadata": {},
     "output_type": "execute_result"
    }
   ],
   "source": [
    "Accs"
   ]
  },
  {
   "cell_type": "code",
   "execution_count": 19,
   "metadata": {},
   "outputs": [
    {
     "data": {
      "text/plain": [
       "[0.0, 0.0, 0.0, 0.0, 0.0, 0.0, 0.0, 0.0, 0.0, 0.0]"
      ]
     },
     "execution_count": 19,
     "metadata": {},
     "output_type": "execute_result"
    }
   ],
   "source": [
    "fns"
   ]
  },
  {
   "cell_type": "markdown",
   "metadata": {},
   "source": [
    "# \"Moral Model\""
   ]
  },
  {
   "cell_type": "code",
   "execution_count": 20,
   "metadata": {},
   "outputs": [],
   "source": [
    "X  = df.drop(['emp_title', 'loan_status', 'addr_state', 'purpose','zip_code','home_ownership_ANY', 'home_ownership_MORTGAGE',\n",
    "       'home_ownership_NONE', 'home_ownership_OTHER',\n",
    "       'home_ownership_OWN', 'home_ownership_RENT','annual_inc','dti'], axis = 1)\n",
    "Y = df.loan_status\n",
    "\n",
    "\n",
    "perc_train = 0.3\n",
    "mask = np.random.randint(0,high = len(X)-1, size = [int(len(X)*perc_train)])\n",
    "\n",
    "\n",
    "classifier = MLPClassifier(solver='adam',hidden_layer_sizes=(100), random_state=1, activation = 'logistic')\n",
    "bagging = BaggingClassifier(classifier,\n",
    "                            max_samples=0.9, max_features=1,n_estimators = 5 ) \n",
    "\n",
    "model = bagging.fit(X.values[mask], Y.values[mask])"
   ]
  },
  {
   "cell_type": "code",
   "execution_count": 21,
   "metadata": {},
   "outputs": [
    {
     "name": "stdout",
     "output_type": "stream",
     "text": [
      "[0.8622, 0.8665, 0.8614, 0.8619, 0.8686, 0.8693, 0.859, 0.8701, 0.8664, 0.8702]\n"
     ]
    }
   ],
   "source": [
    "Accs = [] \n",
    "fns = [] \n",
    "N = 10000 \n",
    "for reps in range(10):\n",
    "    inds = np.random.randint(0 , high = len(X) -1 , size = [N])\n",
    "    Accs.append(model.score(X.values[inds], Y.values[inds]))\n",
    "    tn, fp, fn, tp = confusion_matrix(model.predict(X.values[inds]), Y.values[inds]).ravel()\n",
    "    fns.append(fn/len(X.values[inds]))\n",
    "    \n",
    "print(Accs)"
   ]
  },
  {
   "cell_type": "code",
   "execution_count": 22,
   "metadata": {},
   "outputs": [
    {
     "name": "stdout",
     "output_type": "stream",
     "text": [
      "[0.0, 0.0, 0.0, 0.0, 0.0, 0.0, 0.0, 0.0, 0.0, 0.0]\n"
     ]
    }
   ],
   "source": [
    "print(fns)"
   ]
  },
  {
   "cell_type": "code",
   "execution_count": 23,
   "metadata": {},
   "outputs": [
    {
     "data": {
      "text/plain": [
       "0.86556"
      ]
     },
     "execution_count": 23,
     "metadata": {},
     "output_type": "execute_result"
    }
   ],
   "source": [
    "np.mean([0.8622, 0.8665, 0.8614, 0.8619, 0.8686, 0.8693, 0.859, 0.8701, 0.8664, 0.8702]\n",
    ")"
   ]
  },
  {
   "cell_type": "code",
   "execution_count": 24,
   "metadata": {},
   "outputs": [
    {
     "data": {
      "text/plain": [
       "0.86514"
      ]
     },
     "execution_count": 24,
     "metadata": {},
     "output_type": "execute_result"
    }
   ],
   "source": [
    "np.mean([0.8712, 0.8645, 0.8653, 0.8685, 0.8635, 0.861, 0.8697, 0.8599, 0.869, 0.8588]\n",
    ")"
   ]
  },
  {
   "cell_type": "code",
   "execution_count": null,
   "metadata": {},
   "outputs": [],
   "source": []
  }
 ],
 "metadata": {
  "kernelspec": {
   "display_name": "Python 3",
   "language": "python",
   "name": "python3"
  },
  "language_info": {
   "codemirror_mode": {
    "name": "ipython",
    "version": 3
   },
   "file_extension": ".py",
   "mimetype": "text/x-python",
   "name": "python",
   "nbconvert_exporter": "python",
   "pygments_lexer": "ipython3",
   "version": "3.7.0"
  }
 },
 "nbformat": 4,
 "nbformat_minor": 2
}
